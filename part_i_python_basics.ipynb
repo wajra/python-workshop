{
 "cells": [
  {
   "cell_type": "markdown",
   "metadata": {
    "collapsed": true
   },
   "source": [
    "# Python Basics - Part I"
   ]
  },
  {
   "cell_type": "markdown",
   "metadata": {},
   "source": [
    "**Wazzuuuuup!!!!** Today we'll be cruising through some Python basics and hopefully get you comfortable with the basics of the language"
   ]
  },
  {
   "cell_type": "markdown",
   "metadata": {},
   "source": [
    "Python is a dynamically types, general programming language that was created by Guido Van Rossum in 1994.  \n",
    "It emphasizes _readability_ , _simplicity_ and aims to allow programmers to write code that's straight to the point"
   ]
  },
  {
   "cell_type": "markdown",
   "metadata": {},
   "source": [
    "## How to print something"
   ]
  },
  {
   "cell_type": "code",
   "execution_count": 2,
   "metadata": {},
   "outputs": [
    {
     "name": "stdout",
     "output_type": "stream",
     "text": [
      "Hello World!\n"
     ]
    }
   ],
   "source": [
    "print('Hello World!')"
   ]
  },
  {
   "cell_type": "markdown",
   "metadata": {},
   "source": [
    "## Python types"
   ]
  },
  {
   "cell_type": "markdown",
   "metadata": {},
   "source": [
    "The thing with Python is that similar to R, it's a _Dynamically typed_ language. Which means that a variable can change it's type freely without the interpreter screaming bloody murder.  \n",
    "The basic types in Python that are worth knowing include\n",
    "1. **Numeric types** - int, float, complex\n",
    "2. **Text sequence types** - str\n",
    "3. **Sequence types** - list, tuple, set, range"
   ]
  },
  {
   "cell_type": "markdown",
   "metadata": {},
   "source": [
    "### Numeric types"
   ]
  },
  {
   "cell_type": "code",
   "execution_count": 3,
   "metadata": {},
   "outputs": [],
   "source": [
    "# Numeric types\n",
    "# Integer\n",
    "a = 5\n",
    "# Float\n",
    "b = 6.8"
   ]
  },
  {
   "cell_type": "markdown",
   "metadata": {},
   "source": [
    "### Text sequence types"
   ]
  },
  {
   "cell_type": "code",
   "execution_count": 4,
   "metadata": {},
   "outputs": [],
   "source": [
    "# Text sequence types\n",
    "# We can use \" \"\n",
    "# Or ''' ''' to enclose text sequences in Python\n",
    "word = 'Rutgers is awesome!!'\n",
    "# There is no seperate type for 'Character' in Python\n",
    "letter = 'R'"
   ]
  },
  {
   "cell_type": "markdown",
   "metadata": {},
   "source": [
    "### Arithmetic and string manipulations in Python"
   ]
  },
  {
   "cell_type": "code",
   "execution_count": 6,
   "metadata": {},
   "outputs": [
    {
     "name": "stdout",
     "output_type": "stream",
     "text": [
      "30\n",
      "30\n",
      "30\n",
      "R\n"
     ]
    }
   ],
   "source": [
    "# Basic arithmetic in Python\n",
    "# Summing two numbers\n",
    "x = 10\n",
    "y = 20\n",
    "z = x + y\n",
    "print(z)\n",
    "\n",
    "# Also\n",
    "z = 10 + 20\n",
    "print(z)\n",
    "\n",
    "# Also\n",
    "print(10 + 20)\n",
    "\n",
    "# String manipulations in Python\n",
    "# Subsetting a string\n",
    "print(word[0])"
   ]
  },
  {
   "cell_type": "markdown",
   "metadata": {},
   "source": [
    "### Sequence types in Python"
   ]
  },
  {
   "cell_type": "code",
   "execution_count": 7,
   "metadata": {},
   "outputs": [
    {
     "name": "stdout",
     "output_type": "stream",
     "text": [
      "[1, 2, 3, 4, 5]\n",
      "['Abigail Golden', 'Zoe Kitchel', 'Ryan Almeida']\n"
     ]
    }
   ],
   "source": [
    "# Sequence types\n",
    "# List\n",
    "# A list is collection of objects/values\n",
    "# Doesn't have to be the same type. But it's good practice to make it so\n",
    "list_1 = [1,2,3,4,5]\n",
    "print(list_1)\n",
    "\n",
    "# Other ways to declare a list\n",
    "list_1 = list([1,2,3,4,5])\n",
    "\n",
    "# A list of names\n",
    "list_1 = ['Abigail Golden', 'Zoe Kitchel', 'Ryan Almeida']\n",
    "print(list_1)\n",
    "\n",
    "# Tuple\n",
    "# Similar to a list, but immutable. Meaning that you can't change it.\n",
    "# Once it's declared, that's it's final form\n",
    "tuple_1 = (1,2,3,5)"
   ]
  },
  {
   "cell_type": "markdown",
   "metadata": {},
   "source": [
    "### Sequence type manipulations in Python"
   ]
  },
  {
   "cell_type": "code",
   "execution_count": 8,
   "metadata": {},
   "outputs": [
    {
     "name": "stdout",
     "output_type": "stream",
     "text": [
      "10\n",
      "100\n",
      "[20, 30, 40, 50]\n",
      "[10, 30, 50, 70, 90]\n",
      "[100, 90, 80, 70, 60, 50, 40, 30, 20, 10]\n",
      "[10, 20, 30, 40, 50, 60, 70, 80, 90, 100, 110]\n",
      "[10, 20, 30, 40, 50, 70, 80, 90, 100, 110]\n"
     ]
    },
    {
     "ename": "AttributeError",
     "evalue": "'tuple' object has no attribute 'append'",
     "output_type": "error",
     "traceback": [
      "\u001b[0;31m---------------------------------------------------------------------------\u001b[0m",
      "\u001b[0;31mAttributeError\u001b[0m                            Traceback (most recent call last)",
      "\u001b[0;32m<ipython-input-8-3af9b824fdbf>\u001b[0m in \u001b[0;36m<module>\u001b[0;34m\u001b[0m\n\u001b[1;32m     46\u001b[0m \u001b[0;31m# Once they are delcared, they stay declared\u001b[0m\u001b[0;34m\u001b[0m\u001b[0;34m\u001b[0m\u001b[0;34m\u001b[0m\u001b[0m\n\u001b[1;32m     47\u001b[0m \u001b[0;31m# Appending a value\u001b[0m\u001b[0;34m\u001b[0m\u001b[0;34m\u001b[0m\u001b[0;34m\u001b[0m\u001b[0m\n\u001b[0;32m---> 48\u001b[0;31m \u001b[0mtuple_a\u001b[0m\u001b[0;34m.\u001b[0m\u001b[0mappend\u001b[0m\u001b[0;34m(\u001b[0m\u001b[0;36m6.5\u001b[0m\u001b[0;34m)\u001b[0m\u001b[0;34m\u001b[0m\u001b[0;34m\u001b[0m\u001b[0m\n\u001b[0m\u001b[1;32m     49\u001b[0m \u001b[0;31m# Deleting a value\u001b[0m\u001b[0;34m\u001b[0m\u001b[0;34m\u001b[0m\u001b[0;34m\u001b[0m\u001b[0m\n\u001b[1;32m     50\u001b[0m \u001b[0;32mdel\u001b[0m\u001b[0;34m(\u001b[0m\u001b[0mtuple_a\u001b[0m\u001b[0;34m[\u001b[0m\u001b[0;36m3\u001b[0m\u001b[0;34m]\u001b[0m\u001b[0;34m)\u001b[0m\u001b[0;34m\u001b[0m\u001b[0;34m\u001b[0m\u001b[0m\n",
      "\u001b[0;31mAttributeError\u001b[0m: 'tuple' object has no attribute 'append'"
     ]
    }
   ],
   "source": [
    "# How to declare an empty list\n",
    "empty_list = []\n",
    "# or\n",
    "empty_list = list()\n",
    "\n",
    "# Create a list\n",
    "list_a = [10,20,30,40,50,60,70,80,90,100]\n",
    "\n",
    "\n",
    "# Select the first item in the list\n",
    "# Unlike R, Python starts it's index at '0'\n",
    "# So the 10th element in a list has an index of '9'\n",
    "print(list_a[0])\n",
    "\n",
    "# Select the last item in a list\n",
    "print(list_a[-1])\n",
    "\n",
    "# Print a subset of a list\n",
    "# Example: Print through the second to fourth item\n",
    "print(list_a[1:5])\n",
    "\n",
    "# Print a subset of a list with intervals\n",
    "# We use something called 'slicing'\n",
    "# Example: Print every second item in the list\n",
    "print(list_a[::2])\n",
    "\n",
    "# Print a list in reverse\n",
    "# We use slicing for that as well\n",
    "print(list_a[::-1])\n",
    "\n",
    "\n",
    "# Appending a new element to a list\n",
    "k = 110\n",
    "# We use the 'append' function\n",
    "list_a.append(k)\n",
    "print(list_a)\n",
    "\n",
    "# Deleting items from a list\n",
    "# Deleting the 6th item from the list\n",
    "del(list_a[5])\n",
    "print(list_a)\n",
    "\n",
    "\n",
    "# How tuples are different from list?\n",
    "tuple_a = (1.5,2.5,3.5,4.5,5.5)\n",
    "# Once they are delcared, they stay declared\n",
    "# Appending a value\n",
    "tuple_a.append(6.5)\n",
    "# Deleting a value\n",
    "del(tuple_a[3])\n",
    "# Aha. An error\n",
    "\n",
    "# So what would a tuple be suited for, compared to a list?"
   ]
  },
  {
   "cell_type": "markdown",
   "metadata": {},
   "source": [
    "## Control Flow and Iterations"
   ]
  },
  {
   "cell_type": "markdown",
   "metadata": {},
   "source": [
    "### Conditional statements"
   ]
  },
  {
   "cell_type": "code",
   "execution_count": 12,
   "metadata": {},
   "outputs": [
    {
     "name": "stdout",
     "output_type": "stream",
     "text": [
      "Yes\n",
      "No\n"
     ]
    }
   ],
   "source": [
    "# Use of 'if' and 'else' and 'elif' in Python\n",
    "a = 25\n",
    "# Example if a is greater or equal to 25, print 'Yes'\n",
    "# If not, print 'No'\n",
    "if a>=25:\n",
    "    print('Yes')\n",
    "else:\n",
    "    print('No')\n",
    "# And here you see something that Python has popularized\n",
    "# Indented white spaces\n",
    "# It's for code readability and structure\n",
    "# It separates code into structural blocks\n",
    "\n",
    "\n",
    "# Now let's make it a little more complicated\n",
    "b = 45\n",
    "# Example: If b is equal to 100 print 'Wow'. If b is 55\n",
    "# Print 'Boom'. If b is equal to neither, print 'No'\n",
    "if b==100:\n",
    "    print('Wow')\n",
    "elif b==55:\n",
    "    print('Boom')\n",
    "else:\n",
    "    print('No')"
   ]
  },
  {
   "cell_type": "code",
   "execution_count": 15,
   "metadata": {},
   "outputs": [
    {
     "name": "stdout",
     "output_type": "stream",
     "text": [
      "Yes\n",
      "Yes\n",
      "Yes\n"
     ]
    }
   ],
   "source": [
    "# Use of 'and', 'or' in Python\n",
    "# Example: If a is greater than 25 and smaller than 35, print 'Yes'\n",
    "a = 27\n",
    "\n",
    "# 'and'\n",
    "if a>25 and a<35:\n",
    "    print('Yes')\n",
    "else:\n",
    "    print('Nope')\n",
    "\n",
    "# Another way to do this\n",
    "if 25 < a <35:\n",
    "    print('Yes')\n",
    "else:\n",
    "    print('Nope')\n",
    "    \n",
    "# 'or'\n",
    "# Example: if a is 27 or an even number, print 'Yes'\n",
    "if a==27 or a%2==0:\n",
    "    print('Yes')\n",
    "else:\n",
    "    print('Nope')"
   ]
  },
  {
   "cell_type": "markdown",
   "metadata": {},
   "source": [
    "### Loops"
   ]
  },
  {
   "cell_type": "markdown",
   "metadata": {},
   "source": [
    "#### For loop"
   ]
  },
  {
   "cell_type": "code",
   "execution_count": 16,
   "metadata": {},
   "outputs": [
    {
     "name": "stdout",
     "output_type": "stream",
     "text": [
      "1\n",
      "2\n",
      "3\n",
      "4\n",
      "5\n",
      "6\n",
      "7\n",
      "8\n",
      "9\n",
      "10\n",
      "11\n"
     ]
    }
   ],
   "source": [
    "# The for loop\n",
    "# Example: Looping from 1 to 10 and print every number\n",
    "# We use the 'range' function for this\n",
    "\n",
    "for x in range(1,12):\n",
    "    print(x)"
   ]
  },
  {
   "cell_type": "code",
   "execution_count": 17,
   "metadata": {},
   "outputs": [
    {
     "name": "stdout",
     "output_type": "stream",
     "text": [
      "K\n",
      "u\n",
      "m\n",
      "a\n",
      "r\n",
      " \n",
      "C\n",
      "h\n",
      "o\n",
      "k\n",
      "s\n",
      "h\n",
      "a\n",
      "n\n",
      "a\n",
      "d\n",
      "a\n",
      " \n",
      "S\n",
      "a\n",
      "n\n",
      "g\n",
      "a\n",
      "k\n",
      "k\n",
      "a\n",
      "r\n",
      "a\n"
     ]
    }
   ],
   "source": [
    "# We can loop over any sequence type.\n",
    "# This includes strings, lists, tuples\n",
    "# Example: Loop over a string and print each character\n",
    "long_name = 'Kumar Chokshanada Sangakkara'\n",
    "for chare in long_name:\n",
    "    print(chare)"
   ]
  },
  {
   "cell_type": "code",
   "execution_count": 18,
   "metadata": {},
   "outputs": [
    {
     "name": "stdout",
     "output_type": "stream",
     "text": [
      "2\n",
      "4\n",
      "6\n",
      "8\n",
      "10\n",
      "12\n"
     ]
    }
   ],
   "source": [
    "# Looping over a list. Same goes for a set\n",
    "list_a = [1,2,3,4,5,6]\n",
    "for x in list_a:\n",
    "    print(x*2)"
   ]
  },
  {
   "cell_type": "markdown",
   "metadata": {},
   "source": [
    "#### While loop"
   ]
  },
  {
   "cell_type": "code",
   "execution_count": 20,
   "metadata": {},
   "outputs": [
    {
     "name": "stdout",
     "output_type": "stream",
     "text": [
      "1\n",
      "2\n",
      "3\n",
      "4\n",
      "5\n",
      "6\n",
      "7\n",
      "8\n",
      "9\n"
     ]
    }
   ],
   "source": [
    "a = 1\n",
    "while a<10:\n",
    "    print(a)\n",
    "    a +=1"
   ]
  },
  {
   "cell_type": "markdown",
   "metadata": {},
   "source": [
    "#### Nested loops"
   ]
  },
  {
   "cell_type": "code",
   "execution_count": 22,
   "metadata": {},
   "outputs": [
    {
     "name": "stdout",
     "output_type": "stream",
     "text": [
      "1\n",
      "2\n",
      "3\n",
      "\n",
      "\n",
      "1\n",
      "\n",
      "\n",
      "1\n",
      "2\n",
      "\n",
      "\n",
      "1\n",
      "2\n",
      "3\n",
      "\n",
      "\n",
      "1\n",
      "2\n",
      "3\n",
      "4\n",
      "\n",
      "\n",
      "1\n",
      "2\n",
      "3\n",
      "4\n",
      "5\n",
      "\n",
      "\n"
     ]
    }
   ],
   "source": [
    "# A loop within a loop\n",
    "# What I'm doing here is basically looping through a list\n",
    "# Then for each number in that list, I'm building a range\n",
    "# and looping through that as well\n",
    "list_a = [4,2,3,4,5,6]\n",
    "for x in list_a:\n",
    "    for y in range(1,x):\n",
    "        print(y)\n",
    "    print('\\n')"
   ]
  },
  {
   "cell_type": "markdown",
   "metadata": {},
   "source": [
    "### List comprehension"
   ]
  },
  {
   "cell_type": "code",
   "execution_count": 24,
   "metadata": {},
   "outputs": [
    {
     "name": "stdout",
     "output_type": "stream",
     "text": [
      "[11, 12, 13, 14, 15, 16, 17, 18, 19, 20]\n"
     ]
    }
   ],
   "source": [
    "# Let's learn about a cool feature of Python quickly\n",
    "# List comprehension\n",
    "# List comprehension allows for fast manipulation or\n",
    "# creation of sequences\n",
    "\n",
    "# Creating a list\n",
    "list_1 = [1,2,3,4,5,6,7,8,9,10]\n",
    "# Squaring this same list\n",
    "list_1 = [x+10 for x in list_1]\n",
    "\n",
    "print(list_1)"
   ]
  },
  {
   "cell_type": "code",
   "execution_count": null,
   "metadata": {},
   "outputs": [],
   "source": [
    "# Exercise for you all\n",
    "\n",
    "# Create a list of 3 names\n",
    "# Loop through this list\n",
    "# Then for each name print out the 3rd character\n",
    "# Bonus: If the character is 'e', print out 'Yaas'\n",
    "# If not, print out 'Boo'"
   ]
  }
 ],
 "metadata": {
  "kernelspec": {
   "display_name": "Python 3",
   "language": "python",
   "name": "python3"
  },
  "language_info": {
   "codemirror_mode": {
    "name": "ipython",
    "version": 3
   },
   "file_extension": ".py",
   "mimetype": "text/x-python",
   "name": "python",
   "nbconvert_exporter": "python",
   "pygments_lexer": "ipython3",
   "version": "3.7.3"
  }
 },
 "nbformat": 4,
 "nbformat_minor": 1
}
